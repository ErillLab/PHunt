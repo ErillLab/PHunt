{
 "cells": [
  {
   "cell_type": "markdown",
   "id": "5d786c91",
   "metadata": {},
   "source": [
    "# pHunt LLR - the _PromoterHunter_\n",
    "\n",
    "Inspired by [PromoterHunter](http://www.phisite.org/main/index.php?nav=tools&nav_sel=hunter) tool.\n",
    "\n",
    "The algorithm differs from the original pHunt because:\n",
    "1. PSSM-scores are not normalized\n",
    "2. The final score is not a linear combination of three independent scores, but a single Log-Likelihood Ratio (LLR)\n",
    "3. No rolling average is applied to the ΔG values in the pre-processing phase\n",
    "4. It processes only the forward strand"
   ]
  },
  {
   "cell_type": "markdown",
   "id": "b170b770",
   "metadata": {},
   "source": [
    "## GibbsFE\n",
    "\n",
    "This function implements the computation of the Gibbs Free Energy of a DNA sequence. It does so by using a look-up-table for dinucleotide contributions to the Gibbs FE. The idea behind the computation of Gibbs FE for promoter prediction is that _\"Regions with lower ΔG values are thermodynamically less stable. Prokaryotic promoters are usually localized in these regions.\"_"
   ]
  },
  {
   "cell_type": "code",
   "execution_count": 1,
   "metadata": {},
   "outputs": [],
   "source": [
    "# Imports\n",
    "from Bio import SeqIO\n",
    "from Bio.Seq import Seq\n",
    "from Bio.SeqRecord import SeqRecord\n",
    "from Bio import motifs\n",
    "from Bio.SeqUtils import GC as gc\n",
    "import numpy as np\n",
    "import matplotlib.pyplot as plt\n"
   ]
  },
  {
   "cell_type": "code",
   "execution_count": 2,
   "id": "66d6cacb",
   "metadata": {},
   "outputs": [],
   "source": [
    "# Define GibbsFE function\n",
    "\"\"\"\n",
    "GibbsFE: computes the Gibbs Free Energy of a DNA sequence\n",
    "reads in:\n",
    "- DNA sequence (BioPython Seq object)\n",
    "- window length (to compute Free Energy over)\n",
    "Assumes the DNA sequence only contains DNA characters (A, C, G, T)\n",
    "\"\"\"\n",
    "def GibbsFE(mySeq, wlen=None):\n",
    "    mySeq = mySeq.upper()   #upper case sequence\n",
    "    \n",
    "    #define Gibbs Free Energy sequence components\n",
    "    LUTfe = {\n",
    "            'AA' : 4.18,\n",
    "            'AC' : 6.02,\n",
    "            'AG' : 5.36,\n",
    "            'AT' : 3.68,\n",
    "            'CA' : 6.07,\n",
    "            'CC' : 7.70,\n",
    "            'CG' : 9.08,\n",
    "            'CT' : 5.36,\n",
    "            'GA' : 5.44,\n",
    "            'GC' : 9.37,\n",
    "            'GG' : 7.70,\n",
    "            'GT' : 6.02,\n",
    "            'TA' : 2.43,\n",
    "            'TC' : 5.44,\n",
    "            'TG' : 6.07,\n",
    "            'TT' : 4.18      \n",
    "            }\n",
    "\n",
    "    #convert sequence to vector\n",
    "    myVec = []\n",
    "    #return empty vector if sequence is less than 2 nucleotides\n",
    "    mySeqlen = len(mySeq)\n",
    "    if mySeqlen<2:\n",
    "        return(myVec)\n",
    "    #iterate over the sequence, grabbing two elements at time\n",
    "    #with a +1 step size\n",
    "    for p in range(mySeqlen-1):\n",
    "        dinuc = mySeq[p]+mySeq[p+1]  #create dinucleotide\n",
    "        myVec.append(LUTfe[dinuc])   #look up GE value in table\n",
    "    \n",
    "    #perform moving average, if requested (wlen!=None)\n",
    "    if (wlen):\n",
    "        myVeclen = len(myVec)\n",
    "        #return original vector if window size over length\n",
    "        if myVeclen<wlen:\n",
    "            return(myVec)\n",
    "        myMAvec = []\n",
    "        for p in range(myVeclen-wlen+1):\n",
    "            #compute average\n",
    "            myMAvec.append(sum(myVec[p:p+wlen])/wlen)\n",
    "        #return moving average vector\n",
    "        return(myMAvec)\n",
    "    else:\n",
    "        return(myVec)\n"
   ]
  },
  {
   "cell_type": "markdown",
   "metadata": {},
   "source": [
    "### Usage example\n",
    "\n",
    "The GibbsFE function is applied to a sequence from E. coli, and the energy profile is displayed."
   ]
  },
  {
   "cell_type": "code",
   "execution_count": 3,
   "metadata": {},
   "outputs": [
    {
     "data": {
      "text/plain": [
       "[<matplotlib.lines.Line2D at 0x7fadbd3b3bb0>]"
      ]
     },
     "execution_count": 3,
     "metadata": {},
     "output_type": "execute_result"
    },
    {
     "data": {
      "image/png": "[encoded data removed]",
      "text/plain": [
       "<Figure size 432x288 with 1 Axes>"
      ]
     },
     "metadata": {
      "needs_background": "light"
     },
     "output_type": "display_data"
    }
   ],
   "source": [
    "#create a sequence record\n",
    "mydna = SeqRecord(Seq('GTCAGGTGATTGACGAAGATGTCTATCCGATTCTGTCGCTGCAATCGTGCCTCGACAAGCGTGCGGCAAAAGGCGGCGTCTCACCGCAGCAGGTGGCGCAGGCGATTGCTTTTGCGCAGGCTCGGTTAGGGTAAGAACATTTATATGTATAAATTTGAGCCTGGCTTATCGCCGGGCTTTTTTATGGCAAAAAAAAGCGGATCCTGGAGATCCGCAAAAGTTCACGTTGGCTTTAGTTATTCGAGTTGAGAAACTCTCGAAACGGGCAGTGACTTCAAGGGTTAAAAGAGGTGCCGCTCCGTTTCTGTGAGCAATTATCAGTCAGAATGCTTGATAGGGAGCGCCGTTCATTGCTATTCTACCTATCGCCATGAACTATCGTGGCGATGGAGGATGGATAATGAATATTCGTGATCTTGAGTACCTGGTGGCATTGGCTGAACACCGCCATTTTCGGCGTGCGGCAGATTCCTGCCACGTTAGCCAGCCGACGCTTAGCGG'),\\\n",
    "                        id='NC_000913.3:4158090-4158590',\\\n",
    "                        description='PoxyR_Ecoli')    \n",
    "\n",
    "#call GibbsFE function\n",
    "energies = GibbsFE(mydna,50)\n",
    "\n",
    "#plot results\n",
    "plt.plot(energies)"
   ]
  },
  {
   "cell_type": "markdown",
   "metadata": {},
   "source": [
    "## Energy distribution estimation\n",
    "\n",
    "Use a reference set [PromEC](http://margalit.huji.ac.il/promec/index.html) to estimate the distribution of Gibbs Free Energy values over known promoter sequences. \n",
    "\n",
    "Use the _E. coli_ genome to estimate the distribution of GFE values over (mostly) non-promoter sequences."
   ]
  },
  {
   "cell_type": "code",
   "execution_count": 4,
   "metadata": {},
   "outputs": [],
   "source": [
    "#open reference set to estimate energy distribution\n",
    "#process all sequences in reference set\n",
    "pos_ener = []   #list of average energies\n",
    "\n",
    "for aseq in SeqIO.parse('PromEC/PromEC_seqs_filtered.fas','fasta'):\n",
    "    es = GibbsFE(aseq, 0)   #get list of energies\n",
    "    pos_ener.append(sum(es)/len(es))   #story average energy for the sequence\n",
    "\n",
    "\n",
    "# define window size\n",
    "wsize=len(aseq)\n",
    "'''\n",
    "For general applications of this program, the definition of wsize will\n",
    "require some discussion.\n",
    "'''\n",
    "\n",
    "neg_ener = []   #list of average energies\n",
    "#open genome to estimate background energy distribution\n",
    "with open('PromEC/NC_000913.3.fasta', 'r') as f:\n",
    "     neg_seq = SeqIO.read(f,'fasta')\n",
    "\n",
    "for p in range(0,len(neg_seq)-wsize+1,25):\n",
    "    es = GibbsFE(neg_seq[p:p+wsize], 0)\n",
    "    neg_ener.append(sum(es)/len(es))   #store average energy for the window\n"
   ]
  },
  {
   "cell_type": "code",
   "execution_count": 5,
   "metadata": {},
   "outputs": [
    {
     "data": {
      "text/plain": [
       "<BarContainer object of 30 artists>"
      ]
     },
     "execution_count": 5,
     "metadata": {},
     "output_type": "execute_result"
    },
    {
     "data": {
      "image/png": "[encoded data removed]",
      "text/plain": [
       "<Figure size 432x288 with 1 Axes>"
      ]
     },
     "metadata": {
      "needs_background": "light"
     },
     "output_type": "display_data"
    }
   ],
   "source": [
    "# Frequency distributions (on positive and negative set)\n",
    "# Defining the frequency distributions for the positive and the\n",
    "# negative sets requires binning.\n",
    "\n",
    "# Set number of bins\n",
    "n_bins = 30\n",
    "\n",
    "# Set pseudocount values\n",
    "pc = 1\n",
    "\n",
    "# Energy frequencies for the negative set\n",
    "hist_neg, bin_edges = np.histogram(neg_ener, range=(2.43 , 9.37), density=False, bins=n_bins)\n",
    "hist_neg = (hist_neg+pc)/(hist_neg+pc).sum()\n",
    "\n",
    "# Energy frequencies for the positive set\n",
    "hist_pos, bin_edges = np.histogram(pos_ener, range=(2.43 , 9.37), density=False, bins=n_bins)\n",
    "hist_pos = (hist_pos+pc)/(hist_pos+pc).sum()\n",
    "\n",
    "# Plot frequency distributions as histograms\n",
    "plt.bar(range(n_bins), hist_neg, alpha=0.5)\n",
    "plt.bar(range(n_bins), hist_pos, alpha=0.5)\n"
   ]
  },
  {
   "cell_type": "markdown",
   "id": "6f8a2a1a",
   "metadata": {},
   "source": [
    "## Promoter assessment\n",
    "\n",
    "This function implements the assessment of putative promoter sequences in a DNA sequence. It looks only at the forward strand. The function receives a sequence, two instantiated BioPython motif objects and a min/max spacer distance. It calls the GibbsFE function to obtain a vector of Gibbs Free Energy dinucleotide contributions. It will then return a list of the (5 default) best putative promoters, along with their score."
   ]
  },
  {
   "cell_type": "code",
   "execution_count": 6,
   "id": "d9ce3ee1",
   "metadata": {},
   "outputs": [],
   "source": [
    "\n",
    "\"\"\"Predicts putative promoters in a given sequence, following the PromoterHunter approach.\n",
    "   Inputs:\n",
    "   - mySeq - DNA sequence [Seq, not SeqRecord object]\n",
    "   - lmot - -35 motif object\n",
    "   - lthrs - score threshold for -35 motif\n",
    "   - rmot - -10 motif object\n",
    "   - rthrs - score threshold for -10 motif\n",
    "   - [minD, maxD] - range of spacer lengths\n",
    "   - wsize - size of moving average window for Gibbs free energy\n",
    "   - [lerg,rerg] - range surrounding -10 on which to compute energy score\n",
    "   \n",
    "   Returns:\n",
    "   - List of High-scoring Motif Pairs (HSMP), with all the score and sequence information\n",
    "     for the constituent motifs and energy\n",
    "\"\"\"\n",
    "def pHunt(mySeq, lmot, lthrs, rmot, rthrs, minD, maxD, wsize, posdist, negdist, binedges):\n",
    "    lerg=-wsize//2   #left window from -10 for energy\n",
    "    rerg=+wsize//2    #right window from -10 for energy\n",
    "    GC = gc(mySeq)/100\n",
    "    #score sequence with left motif\n",
    "    lscrs=lmot.pssm.calculate(mySeq).tolist()\n",
    "    #score sequence with left motif\n",
    "    rscrs=rmot.pssm.calculate(mySeq).tolist()\n",
    "    #compute the Gibbs Free Energy vector\n",
    "    fes = GibbsFE(mySeq, None)\n",
    "    \n",
    "    #list of spacer-adequate high-scoring motif pairs\n",
    "    hsmp = []\n",
    "    \n",
    "    mySeqlen = len(mySeq)\n",
    "    #go through sequence, first with left PSSM\n",
    "    for pl in range(mySeqlen-(lmot.pssm.length + minD + rmot.pssm.length)):\n",
    "        #if score above threshold\n",
    "        if lscrs[pl] > lthrs:\n",
    "            remrange = pl+lmot.pssm.length+maxD+1 if (pl+lmot.pssm.length+maxD+1 < mySeqlen - rmot.pssm.length) else mySeqlen - rmot.pssm.length\n",
    "            #go through sequence, now with right PSSM, up to spacer\n",
    "            for pr in range(pl+lmot.pssm.length+minD,remrange):\n",
    "                #if score above threshold\n",
    "                if rscrs[pr] > rthrs:\n",
    "                    element = {'lpos' : pl, 'lseq' : str(mySeq[pl:pl+lmot.pssm.length]),\n",
    "                               'lscr' : lscrs[pl],\n",
    "                               'rpos' : pr, 'rseq' : str(mySeq[pr:pr+rmot.pssm.length]),\n",
    "                               'rscr' : rscrs[pr],\n",
    "                               'spcr' : str(mySeq[pl+lmot.pssm.length:pr].lower()),\n",
    "                              }\n",
    "                    #compute overall (normalized) PSSM contribution\n",
    "                    element['mscr'] = element['lscr'] + element['rscr']\n",
    "\n",
    "                    #add Gibbs Free Energy component\n",
    "                    #as average betweeen coordinates (plus lerg, rerg margins)\n",
    "                    lrange = pr+lerg if pr+lerg>0 else 0\n",
    "                    rrange = pr+rerg if pr+rerg<mySeqlen-rmot.pssm.length else mySeqlen-rmot.pssm.length\n",
    "                    element['escr'] = sum(fes[lrange:rrange])/(rrange-lrange)\n",
    "                    \n",
    "                    p_pos = posdist[np.where(binedges>element['escr'])[0][0] - 1]\n",
    "                    p_neg = negdist[np.where(binedges>element['escr'])[0][0] - 1]\n",
    "                    \n",
    "                    element['ellr'] = np.log2(p_pos / p_neg)\n",
    "                    \n",
    "                    #compute final score (global norm motif score + 2*norm energy score)\n",
    "                    element['Fscr'] = element['mscr'] + element['ellr']\n",
    "                    \n",
    "                    #add high-scoring motif pair with all info to the list of HSMPs\n",
    "                    hsmp.append(element)\n",
    "                  \n",
    "    #return list of spacer-adequate high-scoring motif pairs\n",
    "    return(hsmp)\n"
   ]
  },
  {
   "cell_type": "markdown",
   "metadata": {},
   "source": [
    "### Usage example 1\n",
    "\n",
    "The pHunt function is applied to look for a promote in a sequence from E. coli,\n",
    "using two PSSMs (for the -35 and the -10) and a range of possible spacer lengths\n",
    "between the two PSSMs.\n",
    "The two PSSMs come from **Djordjevic 2011 J. Bact E. coli collections**.\n"
   ]
  },
  {
   "cell_type": "code",
   "execution_count": 7,
   "metadata": {
    "scrolled": true
   },
   "outputs": [
    {
     "name": "stdout",
     "output_type": "stream",
     "text": [
      "\n",
      "Using Djordjevic 2011 J. Bact E. coli collections\n",
      "TTGACA\n",
      "Thres: 0.03828859126248574\n",
      "TATAAT\n",
      "Thres: 1.9188231130852493\n",
      "\n",
      "Range: 330 - 354 | 18 - L: 4.61 R: 5.47 FE: 5.44 FELLR: 1.73 T: 11.81 - S: TTGATAgggataatcgttcattgcTATTCT\n",
      "Range: 314 - 338 | 18 - L: 4.11 R: 5.22 FE: 5.68 FELLR: 0.28 T: 9.61 - S: TTATCAgtcagaatgcttgataggGATAAT\n",
      "Range: 375 - 396 | 15 - L: 1.01 R: 5.22 FE: 5.65 FELLR: 1.73 T: 7.95 - S: CTATCGtggcgatggaggatgGATAAT\n",
      "Range: 226 - 249 | 17 - L: 4.02 R: 3.31 FE: 5.84 FELLR: 0.28 T: 7.61 - S: TTGGCTttagttattcgagttgaGAAACT\n",
      "Range: 301 - 322 | 15 - L: 1.12 R: 4.48 FE: 5.55 FELLR: 1.73 T: 7.33 - S: TTTCTGtgagcaattatcagtCAGAAT\n",
      "Range: 125 - 149 | 18 - L: 0.6 R: 5.66 FE: 5.73 FELLR: 0.28 T: 6.55 - S: TTAGGGtaagaacatttatatgtaTAAATT\n",
      "Range: 355 - 376 | 15 - L: 0.37 R: 3.8 FE: 5.41 FELLR: 2.23 T: 6.39 - S: ATTCTAcctatcgccatgaacTATCGT\n",
      "Range: 125 - 147 | 16 - L: 0.6 R: 3.61 FE: 5.74 FELLR: 0.28 T: 4.49 - S: TTAGGGtaagaacatttatatgTATAAA\n",
      "Range: 380 - 402 | 16 - L: 0.37 R: 2.81 FE: 5.71 FELLR: 0.28 T: 3.47 - S: GTGGCGatggaggatggataatGAATAT\n",
      "Range: 378 - 402 | 18 - L: 0.29 R: 2.81 FE: 5.71 FELLR: 0.28 T: 3.38 - S: TCGTGGcgatggaggatggataatGAATAT\n",
      "Range: 110 - 134 | 18 - L: 1.63 R: 2.42 FE: 5.96 FELLR: -1.68 T: 2.37 - S: TTTGCGcaggctcggttagggtaaGAACAT\n",
      "Range: 111 - 134 | 17 - L: 1.6 R: 2.42 FE: 5.96 FELLR: -1.68 T: 2.33 - S: TTGCGCaggctcggttagggtaaGAACAT\n",
      "Range: 427 - 448 | 15 - L: 1.15 R: 1.96 FE: 6.14 FELLR: -3.05 T: 0.06 - S: GTGGCAttggctgaacaccgcCATTTT\n",
      "Range: 5 - 28 | 17 - L: 0.75 R: 2.05 FE: 6.3 FELLR: -3.05 T: -0.25 - S: GTGATTgacgaagatgtctatccGATTCT\n",
      "Range: 424 - 448 | 18 - L: 0.3 R: 1.96 FE: 6.14 FELLR: -3.05 T: -0.79 - S: CTGGTGgcattggctgaacaccgcCATTTT\n"
     ]
    }
   ],
   "source": [
    "#create a sequence record\n",
    "mydna = SeqRecord(Seq('GTCAGGTGATTGACGAAGATGTCTATCCGATTCTGTCGCTGCAATCGTGCCTCGACAAGCGTGCGGCAAAAGGCGGCGTCTCACCGCAGCAGGTGGCGCAGGCGATTGCTTTTGCGCAGGCTCGGTTAGGGTAAGAACATTTATATGTATAAATTTGAGCCTGGCTTATCGCCGGGCTTTTTTATGGCAAAAAAAAGCGGATCCTGGAGATCCGCAAAAGTTCACGTTGGCTTTAGTTATTCGAGTTGAGAAACTCTCGAAACGGGCAGTGACTTCAAGGGTTAAAAGAGGTGCCGCTCCGTTTCTGTGAGCAATTATCAGTCAGAATGCTTGATAGGGATAATCGTTCATTGCTATTCTACCTATCGCCATGAACTATCGTGGCGATGGAGGATGGATAATGAATATTCGTGATCTTGAGTACCTGGTGGCATTGGCTGAACACCGCCATTTTCGGCGTGCGGCAGATTCCTGCCACGTTAGCCAGCCGACGCTTAGCGG'),\\\n",
    "                        id='NC_000913.3:4158090-4158590',\\\n",
    "                        description='PoxyR_Ecoli')    \n",
    "\n",
    "#read in motif 1 instances, create motif and define threshold\n",
    "motif_seqs = SeqIO.parse('Eco-35.fas','fasta')\n",
    "motif_instances = [s.seq for s in motif_seqs]\n",
    "m1 = motifs.create(motif_instances, 'ACGT')\n",
    "m1._pseudocounts = 0.05\n",
    "t1 = m1.pssm.distribution(precision=10**3).threshold_patser()\n",
    "\n",
    "#read in motif 2 instances, create motif and define threshold\n",
    "motif_seqs = SeqIO.parse('Eco-10.fas','fasta')\n",
    "motif_instances = [s.seq for s in motif_seqs]\n",
    "m2 = motifs.create(motif_instances, 'ACGT')\n",
    "m2._pseudocounts = 0.05\n",
    "t2 = m2.pssm.distribution(precision=10**3).threshold_patser()\n",
    "\n",
    "\n",
    "print('\\nUsing Djordjevic 2011 J. Bact E. coli collections')\n",
    "print(m1.consensus)\n",
    "print('Thres:',t1)\n",
    "print(m2.consensus)\n",
    "print('Thres:',t2)\n",
    "print('')\n",
    "\n",
    "# minimum and maximum spacer length\n",
    "min_sl = 15\n",
    "max_sl = 18\n",
    "\n",
    "# call pHunt finction to predict promoters\n",
    "mypromoters = pHunt(mydna.seq, m1, t1, m2, t2, min_sl, max_sl, wsize, hist_pos, hist_neg, bin_edges)\n",
    "\n",
    "#sort results by global score\n",
    "mypromoters = sorted(mypromoters, key = lambda k: k['Fscr'], reverse=True)\n",
    "\n",
    "for promoter in mypromoters:\n",
    "    print('Range:', promoter['lpos'],'-',promoter['rpos'], '|', promoter['rpos']-promoter['lpos']-6, \\\n",
    "          '- L:',round(promoter['lscr'],2),'R:',round(promoter['rscr'],2),\\\n",
    "          'FE:',round(promoter['escr'],2), 'FELLR:',round(promoter['ellr'],2), 'T:',round(promoter['Fscr'],2),\\\n",
    "         '- S:',promoter['lseq']+promoter['spcr']+promoter['rseq'])\n"
   ]
  },
  {
   "cell_type": "markdown",
   "metadata": {},
   "source": [
    "### Usage example 2\n",
    "\n",
    "The pHunt function is applied to look for a promote in a sequence from E. coli,\n",
    "using two PSSMs (for the -35 and the -10) and a range of possible spacer lengths\n",
    "between the two PSSMs.\n",
    "The two PSSMs are the **default matrices from PromoterHunter**.\n"
   ]
  },
  {
   "cell_type": "code",
   "execution_count": 9,
   "metadata": {},
   "outputs": [
    {
     "name": "stdout",
     "output_type": "stream",
     "text": [
      "\n",
      "Using PromoterHunter default matrices\n",
      "TTGACA\n",
      "Thres: 0.20060658881399718\n",
      "TATAAT\n",
      "Thres: 1.0611048434764747\n",
      "\n",
      "Range: 330 - 354 | 18 - L: 6.06 R: 4.83 FE: 5.44 FELLR: 1.73 T: 12.62 - S: TTGATAgggataatcgttcattgcTATTCT\n",
      "Range: 314 - 338 | 18 - L: 3.25 R: 5.4 FE: 5.68 FELLR: 0.28 T: 8.93 - S: TTATCAgtcagaatgcttgataggGATAAT\n",
      "Range: 350 - 371 | 15 - L: 4.34 R: 1.53 FE: 5.41 FELLR: 2.23 T: 8.09 - S: TTGCTAttctacctatcgccaTGAACT\n",
      "Range: 154 - 177 | 17 - L: 3.18 R: 1.76 FE: 5.52 FELLR: 1.73 T: 6.67 - S: TTGAGCctggcttatcgccgggcTTTTTT\n",
      "Range: 301 - 322 | 15 - L: 0.83 R: 3.62 FE: 5.55 FELLR: 1.73 T: 6.18 - S: TTTCTGtgagcaattatcagtCAGAAT\n",
      "Range: 226 - 249 | 17 - L: 3.8 R: 1.92 FE: 5.84 FELLR: 0.28 T: 6.0 - S: TTGGCTttagttattcgagttgaGAAACT\n",
      "Range: 290 - 312 | 16 - L: 1.54 R: 2.39 FE: 5.65 FELLR: 1.73 T: 5.65 - S: GTGCCGctccgtttctgtgagcAATTAT\n",
      "Range: 365 - 389 | 18 - L: 2.6 R: 1.18 FE: 5.55 FELLR: 1.73 T: 5.51 - S: TCGCCAtgaactatcgtggcgatgGAGGAT\n",
      "Range: 178 - 199 | 15 - L: 2.49 R: 1.69 FE: 5.68 FELLR: 0.28 T: 4.47 - S: TTTTTAtggcaaaaaaaagcgGATCCT\n",
      "Range: 153 - 177 | 18 - L: 0.59 R: 1.76 FE: 5.52 FELLR: 1.73 T: 4.08 - S: TTTGAGcctggcttatcgccgggcTTTTTT\n",
      "Range: 380 - 403 | 17 - L: 0.91 R: 2.83 FE: 5.69 FELLR: 0.28 T: 4.02 - S: GTGGCGatggaggatggataatgAATATT\n",
      "Range: 301 - 325 | 18 - L: 0.83 R: 1.12 FE: 5.55 FELLR: 1.73 T: 3.68 - S: TTTCTGtgagcaattatcagtcagAATGCT\n",
      "Range: 304 - 325 | 15 - L: 0.62 R: 1.12 FE: 5.55 FELLR: 1.73 T: 3.48 - S: CTGTGAgcaattatcagtcagAATGCT\n",
      "Range: 381 - 403 | 16 - L: 0.22 R: 2.83 FE: 5.69 FELLR: 0.28 T: 3.33 - S: TGGCGAtggaggatggataatgAATATT\n",
      "Range: 177 - 199 | 16 - L: 0.83 R: 1.69 FE: 5.68 FELLR: 0.28 T: 2.8 - S: TTTTTTatggcaaaaaaaagcgGATCCT\n",
      "Range: 380 - 402 | 16 - L: 0.91 R: 1.06 FE: 5.71 FELLR: 0.28 T: 2.26 - S: GTGGCGatggaggatggataatGAATAT\n",
      "Range: 394 - 416 | 16 - L: 2.76 R: 1.1 FE: 6.05 FELLR: -1.68 T: 2.18 - S: TGGATAatgaatattcgtgatcTTGAGT\n",
      "Range: 381 - 402 | 15 - L: 0.22 R: 1.06 FE: 5.71 FELLR: 0.28 T: 1.56 - S: TGGCGAtggaggatggataatGAATAT\n",
      "Range: 110 - 134 | 18 - L: 1.96 R: 1.18 FE: 5.96 FELLR: -1.68 T: 1.45 - S: TTTGCGcaggctcggttagggtaaGAACAT\n",
      "Range: 105 - 126 | 15 - L: 2.67 R: 1.64 FE: 6.16 FELLR: -3.05 T: 1.27 - S: TTGCTTttgcgcaggctcggtTAGGGT\n",
      "Range: 427 - 448 | 15 - L: 2.66 R: 1.48 FE: 6.14 FELLR: -3.05 T: 1.09 - S: GTGGCAttggctgaacaccgcCATTTT\n",
      "Range: 111 - 134 | 17 - L: 1.46 R: 1.18 FE: 5.96 FELLR: -1.68 T: 0.96 - S: TTGCGCaggctcggttagggtaaGAACAT\n",
      "Range: 5 - 28 | 17 - L: 1.59 R: 1.57 FE: 6.3 FELLR: -3.05 T: 0.11 - S: GTGATTgacgaagatgtctatccGATTCT\n",
      "Range: 18 - 39 | 15 - L: 1.54 R: 2.56 FE: 6.37 FELLR: -4.29 T: -0.18 - S: ATGTCTatccgattctgtcgcTGCAAT\n"
     ]
    }
   ],
   "source": [
    "#read in motif 1 JASPAR file, create motif and define threshold\n",
    "with open(\"Eco-35.jaspar\") as handle:\n",
    "    m1 = motifs.parse(handle, 'jaspar')[0]\n",
    "m1._pseudocounts = 0.05\n",
    "t1 = m1.pssm.distribution(precision=10**3).threshold_patser()\n",
    "#read in motif 2 JASPAR file, create motif and define threshold\n",
    "with open(\"Eco-10.jaspar\") as handle:\n",
    "    m2 = motifs.parse(handle, 'jaspar')[0]\n",
    "m2._pseudocounts = 0.05\n",
    "t2 = m2.pssm.distribution(precision=10**3).threshold_patser()\n",
    "\n",
    "print('\\nUsing PromoterHunter default matrices')\n",
    "print(m1.consensus)\n",
    "print('Thres:',t1)\n",
    "print(m2.consensus)\n",
    "print('Thres:',t2)\n",
    "print('')\n",
    "\n",
    "# call pHunt finction to predict promoters\n",
    "mypromoters = pHunt(mydna.seq, m1, t1, m2, t2, min_sl, max_sl, wsize, hist_pos, hist_neg, bin_edges)\n",
    "\n",
    "#sort results by global score\n",
    "mypromoters = sorted(mypromoters, key = lambda k: k['Fscr'], reverse=True)\n",
    "\n",
    "for promoter in mypromoters:\n",
    "    print('Range:', promoter['lpos'],'-',promoter['rpos'], '|', promoter['rpos']-promoter['lpos']-6, \\\n",
    "          '- L:',round(promoter['lscr'],2),'R:',round(promoter['rscr'],2),\\\n",
    "          'FE:',round(promoter['escr'],2), 'FELLR:',round(promoter['ellr'],2), 'T:',round(promoter['Fscr'],2),\\\n",
    "         '- S:',promoter['lseq']+promoter['spcr']+promoter['rseq'])"
   ]
  }
 ],
 "metadata": {
  "kernelspec": {
   "display_name": "Python 3",
   "language": "python",
   "name": "python3"
  },
  "language_info": {
   "codemirror_mode": {
    "name": "ipython",
    "version": 3
   },
   "file_extension": ".py",
   "mimetype": "text/x-python",
   "name": "python",
   "nbconvert_exporter": "python",
   "pygments_lexer": "ipython3",
   "version": "3.8.3"
  }
 },
 "nbformat": 4,
 "nbformat_minor": 5
}
