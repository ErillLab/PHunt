{
 "cells": [
  {
   "cell_type": "markdown",
   "id": "5d786c91",
   "metadata": {},
   "source": [
    "# pHunt - the _PromoterHunter_\n",
    "\n",
    "This is an attempt at recoding in Python a version of the [PromoterHunter](http://www.phisite.org/main/index.php?nav=tools&nav_sel=hunter) tool.\n",
    "\n",
    "Makes a few simplifications over the PromoterHunter PERL code:\n",
    "\n",
    "- Processes only forward strand\n",
    "- Does not compute a moving average for the Gibbs Free Energy unless requested\n",
    "    - This is not used in promoter score computation, since it essentially amounts to double averaging\n"
   ]
  },
  {
   "cell_type": "markdown",
   "id": "52bbc6cc",
   "metadata": {},
   "source": [
    "## GibbsFE\n",
    "\n",
    "This function implements the computation of the Gibbs Free Energy of a DNA sequence. It does so by using a look-up-table for dinucleotide contributions to the Gibbs FE. The idea behind the computation of Gibbs FE for promoter prediction is that _\"Regions with lower ΔG values are thermodynamically less stable. Prokaryotic promoters are usually localized in these regions.\"_"
   ]
  },
  {
   "cell_type": "code",
   "execution_count": 215,
   "id": "66d6cacb",
   "metadata": {},
   "outputs": [
    {
     "data": {
      "text/plain": [
       "[<matplotlib.lines.Line2D at 0x1d7a76ff070>]"
      ]
     },
     "execution_count": 215,
     "metadata": {},
     "output_type": "execute_result"
    },
    {
     "data": {
      "image/png": "[encoded data removed]",
      "text/plain": [
       "<Figure size 432x288 with 1 Axes>"
      ]
     },
     "metadata": {
      "needs_background": "light"
     },
     "output_type": "display_data"
    }
   ],
   "source": [
    "\"\"\"\n",
    "GibbsFE: computes the Gibbs Free Energy of a DNA sequence\n",
    "reads in:\n",
    "- DNA sequence (BioPython Seq object)\n",
    "- window length (to compute Free Energy over)\n",
    "Assumes the DNA sequence only contains DNA characters (A, C, G, T)\n",
    "\"\"\"\n",
    "def GibbsFE(mySeq, wlen=None):\n",
    "    mySeq = mySeq.upper()   #upper case sequence\n",
    "    \n",
    "    #define Gibbs Free Energy sequence components\n",
    "    LUTfe = {\n",
    "            'AA' : 4.18,\n",
    "            'AC' : 6.02,\n",
    "            'AG' : 5.36,\n",
    "            'AT' : 3.68,\n",
    "            'CA' : 6.07,\n",
    "            'CC' : 7.70,\n",
    "            'CG' : 9.08,\n",
    "            'CT' : 5.36,\n",
    "            'GA' : 5.44,\n",
    "            'GC' : 9.37,\n",
    "            'GG' : 7.70,\n",
    "            'GT' : 6.02,\n",
    "            'TA' : 2.43,\n",
    "            'TC' : 5.44,\n",
    "            'TG' : 6.07,\n",
    "            'TT' : 4.18      \n",
    "            }\n",
    "\n",
    "    #convert sequence to vector\n",
    "    myVec = []\n",
    "    #return empty vector if sequence is less than 2 nucleotides\n",
    "    mySeqlen = len(mySeq)\n",
    "    if mySeqlen<2:\n",
    "        return(myVec)\n",
    "    #iterate over the sequence, grabbing two elements at time\n",
    "    #with a +1 step size\n",
    "    for p in range(mySeqlen-1):\n",
    "        dinuc = mySeq[p]+mySeq[p+1]  #create dinucleotide\n",
    "        myVec.append(LUTfe[dinuc])   #look up GE value in table\n",
    "    \n",
    "    #perform moving average, if requested (wlen!=None)\n",
    "    if (wlen):\n",
    "        myVeclen = len(myVec)\n",
    "        #return original vector if window size over length\n",
    "        if myVeclen<wlen:\n",
    "            return(myVec)\n",
    "        myMAvec = []\n",
    "        for p in range(myVeclen-wlen+1):\n",
    "            #compute average\n",
    "            myMAvec.append(sum(myVec[p:p+wlen])/wlen)\n",
    "        #return moving average vector\n",
    "        return(myMAvec)\n",
    "    else:\n",
    "        return(myVec)\n",
    "    \n",
    "#print(LUTfe['AA'])\n",
    "#    print(myVec)\n",
    "#    print(myMAvec)\n",
    "\n",
    "from Bio.Seq import Seq\n",
    "from Bio.SeqRecord import SeqRecord\n",
    "\n",
    "#create a sequence record\n",
    "mydna = SeqRecord(Seq('TGAAGCGGTGGTGGAAGCCATTCGTCAGGGCAAACCGCTGGAAGATCTGCCGCTCAGTGAGTTGCAGAAATTCAGTCAGGTGATTGACGAAGATGTCTATCCGATTCTGTCGCTGCAATCGTGCCTCGACAAGCGTGCGGCAAAAGGCGGCGTCTCACCGCAGCAGGTGGCGCAGGCGATTGCTTTTGCGCAGGCTCGGTTAGGGTAAGAACATTTATATGTATAAATTTGAGCCTGGCTTATCGCCGGGCTTTTTTATGGCAAAAAAAAGCGGATCCTGGAGATCCGCAAAAGTTCACGTTGGCTTTAGTTATTCGAGTTGAGAAACTCTCGAAACGGGCAGTGACTTCAAGGGTTAAAAGAGGTGCCGCTCCGTTTCTGTGAGCAATTATCAGTCAGAATGCTTGATAGGGATAATCGTTCATTGCTATTCTACCTATCGCCATGAACTATCGTGGCGATGGAGGATGGATAATGAATATTCGTGATCTTGAGTACCT'),\\\n",
    "                        id='NC_000962.3:2925356-2925457',\\\n",
    "                        description='Mycobacterium tuberculosis H37Rv promoter sequence')    \n",
    "\n",
    "\n",
    "\n",
    "#example usage\n",
    "energies = GibbsFE(mydna,50)\n",
    "\n",
    "#plot results\n",
    "import matplotlib.pyplot as plt\n",
    "plt.plot(energies)\n"
   ]
  },
  {
   "cell_type": "markdown",
   "id": "6f8a2a1a",
   "metadata": {},
   "source": [
    "## Promoter assessment\n",
    "\n",
    "This function implements the assessment of putative promoter sequences in a DNA sequence. It look only at the forward strand. The function receives a sequence, two instantiated BioPython motif objects and a min/max spacer distance. It calls the GibbsFE function to obtain a vector of Gibbs Free Energy dinucleotide contributions. It will then return a list of the (5 default) best putative promoters, along with their score."
   ]
  },
  {
   "cell_type": "code",
   "execution_count": 216,
   "id": "d9ce3ee1",
   "metadata": {},
   "outputs": [
    {
     "name": "stdout",
     "output_type": "stream",
     "text": [
      "TTGACA\n",
      "Thres: 0.03828859126248574\n",
      "TATAAT\n",
      "Thres: 1.9188231130852493\n",
      "Range: 398 - 422 | 18 - L: 4.11 R: 5.22 FE: 0.51 T: 9.84 - S: TTATCAtcagaatgcttgataggGATAAT\n",
      "Range: 87 - 110 | 17 - L: 5.72 R: 3.8 FE: 0.02 T: 9.54 - S: TTGACAatcgctgcaatcgtgcTATCGT\n",
      "Range: 414 - 438 | 18 - L: 4.61 R: 3.02 FE: 0.34 T: 7.97 - S: TTGATAggataatcgttcattgaCATTCT\n",
      "Range: 310 - 333 | 17 - L: 4.02 R: 3.31 FE: 0.19 T: 7.52 - S: TTGGCTtagttattcgagttgaGAAACT\n",
      "Range: 459 - 480 | 15 - L: 1.01 R: 5.22 FE: 1.02 T: 7.24 - S: CTATCGggcgatggaggatgGATAAT\n",
      "Range: 385 - 406 | 15 - L: 1.12 R: 4.48 FE: 0.49 T: 6.09 - S: TTTCTGgagcaattatcagtCAGAAT\n",
      "Range: 61 - 83 | 16 - L: 4.3 R: 2.14 FE: -0.47 T: 5.97 - S: TTGCAGaattcagtcaggtgaTACCTT\n",
      "Range: 209 - 233 | 18 - L: 0.6 R: 5.66 FE: -0.93 T: 5.33 - S: TTAGGGaagaacatttatatgtaTAAATT\n",
      "Range: 439 - 460 | 15 - L: 0.37 R: 3.8 FE: 0.74 T: 4.91 - S: ATTCTActatcgccatgaacTATCGT\n",
      "Range: 464 - 486 | 16 - L: 0.37 R: 2.81 FE: 1.13 T: 4.32 - S: GTGGCGtggaggatggataatGAATAT\n",
      "Range: 462 - 486 | 18 - L: 0.29 R: 2.81 FE: 1.13 T: 4.24 - S: TCGTGGgatggaggatggataatGAATAT\n",
      "Range: 194 - 218 | 18 - L: 1.63 R: 2.42 FE: -0.65 T: 3.41 - S: TTTGCGaggctcggttagggtaaGAACAT\n",
      "Range: 195 - 218 | 17 - L: 1.6 R: 2.42 FE: -0.65 T: 3.37 - S: TTGCGCggctcggttagggtaaGAACAT\n",
      "Range: 209 - 231 | 16 - L: 0.6 R: 3.61 FE: -0.94 T: 3.26 - S: TTAGGGaagaacatttatatgTATAAA\n",
      "Range: 109 - 131 | 16 - L: 1.01 R: 2.05 FE: -0.32 T: 2.74 - S: CTATCGaaaagatgtctatccGATTCT\n"
     ]
    },
    {
     "data": {
      "image/png": "[encoded data removed]",
      "text/plain": [
       "<Figure size 432x288 with 1 Axes>"
      ]
     },
     "metadata": {
      "needs_background": "light"
     },
     "output_type": "display_data"
    }
   ],
   "source": [
    "#import the Bio motifs module\n",
    "from Bio import motifs\n",
    "\n",
    "from math import log\n",
    "from Bio.SeqUtils import GC as gc\n",
    "\n",
    "\"\"\"\n",
    "\"\"\"\n",
    "def pHunt(mySeq, lmot, lthrs, rmot, rthrs, minD, maxD, scale=10, lerg=-100, rerg=30):\n",
    "    GC = gc(mySeq)/100\n",
    "    #score sequence with left motif\n",
    "    lscrs=lmot.pssm.calculate(mySeq).tolist()\n",
    "    #score sequence with left motif\n",
    "    rscrs=rmot.pssm.calculate(mySeq).tolist()\n",
    "    #compute the Gibbs Free Energy vector\n",
    "    fes = GibbsFE(mySeq)\n",
    "    #mean Gibbs Free Energy across entire sequence\n",
    "    meanFE = sum(fes)/len(fes)\n",
    "    \n",
    "    #list of spacer-adequate high-scoring motif pairs\n",
    "    hsmp = []\n",
    "    \n",
    "    mySeqlen = len(mySeq)\n",
    "    #go through sequence, first with left PSSM\n",
    "    for pl in range(mySeqlen-(lmot.pssm.length + minD + rmot.pssm.length)):\n",
    "        #if score above threshold\n",
    "        if lscrs[pl] > lthrs:\n",
    "            remrange = pl+lmot.pssm.length+maxD+1 if (pl+lmot.pssm.length+maxD+1 < mySeqlen - rmot.pssm.length) else mySeqlen - rmot.pssm.length\n",
    "            #go through sequence, now with right PSSM, up to spacer\n",
    "            for pr in range(pl+lmot.pssm.length+minD,remrange):\n",
    "                #if score above threshold\n",
    "                if rscrs[pr] > rthrs:\n",
    "                    element = {'lpos' : pl, 'lseq' : str(mySeq[pl:pl+lmot.pssm.length]),\n",
    "                               'lscr' : lscrs[pl],\n",
    "                               'rpos' : pr, 'rseq' : str(mySeq[pr:pr+rmot.pssm.length]),\n",
    "                               'rscr' : rscrs[pr],\n",
    "                               'mscr' : lscrs[pl] + rscrs[pr],\n",
    "                               'spcr' : str(mySeq[pl+lmot.pssm.length+1:pr].lower())\n",
    "                              }\n",
    "                    #add Gibbs Free Energy component\n",
    "                    #as average betweeen coordinates (plus lerg, rerg margins)\n",
    "                    lrange = pr+lerg if pr+lerg>0 else 0\n",
    "                    rrange = pr+rerg if pr+rerg<mySeqlen-rmot.pssm.length else mySeqlen-rmot.pssm.length\n",
    "                    escr = (sum(fes[lrange:rrange])/(rrange-lrange))\n",
    "                    \n",
    "                    element['escr'] = scale * log(meanFE/escr,2)\n",
    "                    element['fscr'] = element['mscr'] + element['escr']\n",
    "                    \n",
    "                    hsmp.append(element)\n",
    "                    \n",
    "    #return list of spacer-adequate high-scoring motif pairs\n",
    "    return(hsmp)\n",
    "                    \n",
    "        \n",
    "        \n",
    "    \n",
    "#example usage\n",
    "\n",
    "from Bio.Seq import Seq\n",
    "from Bio.SeqRecord import SeqRecord\n",
    "#create a sequence record\n",
    "mydna = SeqRecord(Seq('TGAAGCGGTGGTGGAAGCCATTCGTCAGGGCAAACCGCTGGAAGATCTGCCGCTCAGTGAGTTGCAGAAATTCAGTCAGGTGATACCTTGACATATCGCTGCAATCGTGCTATCGTAAAAGATGTCTATCCGATTCTAGCAAGCGTGCGGCAAAAGGCGGCGTCTCACCGCAGCAGGTGGCGCAGGCGATTGCTTTTGCGCAGGCTCGGTTAGGGTAAGAACATTTATATGTATAAATTTGAGCCTGGCTTATCGCCGGGCTTTTTTATGGCAAAAAAAAGCGGATCCTGGAGATCCGCAAAAGTTCACGTTGGCTTTAGTTATTCGAGTTGAGAAACTCTCGAAACGGGCAGTGACTTCAAGGGTTAAAAGAGGTGCCGCTCCGTTTCTGTGAGCAATTATCAGTCAGAATGCTTGATAGGGATAATCGTTCATTGACATTCTACCTATCGCCATGAACTATCGTGGCGATGGAGGATGGATAATGAATATTCGTGATCTTGAGTACCT'),\\\n",
    "                        id='NC_000962.3:2925356-2925457',\\\n",
    "                        description='Mycobacterium tuberculosis H37Rv promoter sequence')    \n",
    "\n",
    "from Bio import SeqIO\n",
    "#read in motif 1 instances, create motif and define threshold\n",
    "motif_seqs = SeqIO.parse('Eco-10.fas','fasta')\n",
    "motif_instances = [s.seq for s in motif_seqs]\n",
    "m2 = motifs.create(motif_instances, 'ACGT')\n",
    "m2._pseudocounts = 0.05\n",
    "t2 = m2.pssm.distribution(precision=10**3).threshold_patser()\n",
    "\n",
    "#read in motif 2 instances, create motif and define threshold\n",
    "motif_seqs = SeqIO.parse('Eco-35.fas','fasta')\n",
    "motif_instances = [s.seq for s in motif_seqs]\n",
    "m1 = motifs.create(motif_instances, 'ACGT')\n",
    "m1._pseudocounts = 0.05\n",
    "t1 = m1.pssm.distribution(precision=10**3).threshold_patser()\n",
    "\n",
    "print(m1.consensus)\n",
    "print('Thres:',t1)\n",
    "print(m2.consensus)\n",
    "print('Thres:',t2)\n",
    "\n",
    "plt.plot(GibbsFE(mydna.seq,50)) \n",
    "\n",
    "mypromoters = pHunt(mydna.seq, m1, t1, m2, t2, 15, 18)\n",
    "\n",
    "mypromoters = sorted(mypromoters, key = lambda k: k['fscr'], reverse=True)\n",
    "\n",
    "for promoter in mypromoters:\n",
    "    print('Range:', promoter['lpos'],'-',promoter['rpos'], '|', promoter['rpos']-promoter['lpos']-6, \\\n",
    "          '- L:',round(promoter['lscr'],2),'R:',round(promoter['rscr'],2),\\\n",
    "          'FE:',round(promoter['escr'],2),'T:',round(promoter['fscr'],2),\\\n",
    "         '- S:',promoter['lseq']+promoter['spcr']+promoter['rseq'])\n"
   ]
  },
  {
   "cell_type": "code",
   "execution_count": null,
   "id": "f021e415",
   "metadata": {},
   "outputs": [],
   "source": []
  }
 ],
 "metadata": {
  "kernelspec": {
   "display_name": "Python 3 (ipykernel)",
   "language": "python",
   "name": "python3"
  },
  "language_info": {
   "codemirror_mode": {
    "name": "ipython",
    "version": 3
   },
   "file_extension": ".py",
   "mimetype": "text/x-python",
   "name": "python",
   "nbconvert_exporter": "python",
   "pygments_lexer": "ipython3",
   "version": "3.10.2"
  }
 },
 "nbformat": 4,
 "nbformat_minor": 5
}
